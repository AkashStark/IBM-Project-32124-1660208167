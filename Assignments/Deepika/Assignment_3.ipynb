{
  "nbformat": 4,
  "nbformat_minor": 0,
  "metadata": {
    "colab": {
      "provenance": [],
      "collapsed_sections": []
    },
    "kernelspec": {
      "name": "python3",
      "display_name": "Python 3"
    },
    "language_info": {
      "name": "python"
    },
    "accelerator": "GPU"
  },
  "cells": [
    {
      "cell_type": "code",
      "execution_count": 8,
      "metadata": {
        "id": "ebOvnXX2UQzG"
      },
      "outputs": [],
      "source": [
        "from tensorflow.keras.models import Sequential\n",
        "from tensorflow.keras.layers import Dense\n",
        "from sklearn.model_selection import train_test_split\n"
      ]
    },
    {
      "cell_type": "code",
      "source": [
        "from google.colab import drive\n",
        "drive.mount('/content/drive')"
      ],
      "metadata": {
        "id": "LJE-mYjPYN9V",
        "colab": {
          "base_uri": "https://localhost:8080/"
        },
        "outputId": "40eeb60e-6d5e-42cb-c19d-169c4a355b9a"
      },
      "execution_count": 3,
      "outputs": [
        {
          "output_type": "stream",
          "name": "stdout",
          "text": [
            "Mounted at /content/drive\n"
          ]
        }
      ]
    },
    {
      "cell_type": "code",
      "source": [
        "from tensorflow.keras.layers import Convolution2D\n",
        "from tensorflow.keras.layers import MaxPooling2D\n",
        "from tensorflow.keras.layers import Flatten"
      ],
      "metadata": {
        "id": "lXQMF4z6YZ8C"
      },
      "execution_count": 4,
      "outputs": []
    },
    {
      "cell_type": "code",
      "source": [
        "from tensorflow.keras.preprocessing.image import ImageDataGenerator\n",
        "train_datagen = ImageDataGenerator(rescale=1./255,shear_range=0.2,zoom_range=0.2,horizontal_flip=True,vertical_flip=True)\n",
        "test_datagen = ImageDataGenerator(rescale=1./255)"
      ],
      "metadata": {
        "id": "8ZtUnRMIYjvW"
      },
      "execution_count": 10,
      "outputs": []
    },
    {
      "cell_type": "code",
      "source": [
        "x_train = train_datagen.flow_from_directory(r\"/content/drive/MyDrive/Flowers-Dataset/flowers\",target_size=(128,128),batch_size=32,class_mode=\"categorical\")"
      ],
      "metadata": {
        "id": "ImEwShQ9Ypaw",
        "colab": {
          "base_uri": "https://localhost:8080/"
        },
        "outputId": "8e413a00-f0e8-4ec0-a58a-eb01083c1e66"
      },
      "execution_count": 12,
      "outputs": [
        {
          "output_type": "stream",
          "name": "stdout",
          "text": [
            "Found 331 images belonging to 5 classes.\n"
          ]
        }
      ]
    },
    {
      "cell_type": "code",
      "source": [
        "x_train.class_indices"
      ],
      "metadata": {
        "id": "1BTCmNScfhDs",
        "colab": {
          "base_uri": "https://localhost:8080/"
        },
        "outputId": "1dcf4f80-9808-48b8-ec8b-4a3e22d1fc5d"
      },
      "execution_count": 13,
      "outputs": [
        {
          "output_type": "execute_result",
          "data": {
            "text/plain": [
              "{'daisy': 0, 'dandelion': 1, 'rose': 2, 'sunflower': 3, 'tulip': 4}"
            ]
          },
          "metadata": {},
          "execution_count": 13
        }
      ]
    },
    {
      "cell_type": "code",
      "source": [
        "from keras.models import Sequential\n",
        "\n",
        "model = Sequential()\n",
        "model.add(Convolution2D(32,(3,3),input_shape=(128,128,3),activation='relu'))\n",
        "model.add(MaxPooling2D(pool_size=(2,2)))\n",
        "model.add(Flatten())\n",
        "model.add(Dense(units=300,kernel_initializer=\"random_uniform\",activation=\"relu\"))\n",
        "model.add(Dense(units=200,kernel_initializer=\"random_uniform\",activation=\"relu\"))\n",
        "model.add(Dense(units=5,kernel_initializer=\"random_uniform\",activation=\"softmax\"))"
      ],
      "metadata": {
        "id": "2BmF2J-ofxk6"
      },
      "execution_count": 14,
      "outputs": []
    },
    {
      "cell_type": "code",
      "source": [
        "model.compile(loss=\"categorical_crossentropy\",optimizer=\"adam\",metrics=[\"accuracy\"])\n",
        "model.fit(x_train,steps_per_epoch=100,epochs=20,validation_data=x_train)"
      ],
      "metadata": {
        "id": "RXK9w6eygf5I",
        "colab": {
          "base_uri": "https://localhost:8080/"
        },
        "outputId": "31f96162-aed1-44f1-b472-d21f3f993122"
      },
      "execution_count": 15,
      "outputs": [
        {
          "output_type": "stream",
          "name": "stdout",
          "text": [
            "Epoch 1/20\n",
            " 11/100 [==>...........................] - ETA: 18s - loss: 0.1473 - accuracy: 0.9305"
          ]
        },
        {
          "output_type": "stream",
          "name": "stderr",
          "text": [
            "WARNING:tensorflow:Your input ran out of data; interrupting training. Make sure that your dataset or generator can generate at least `steps_per_epoch * epochs` batches (in this case, 2000 batches). You may need to use the repeat() function when building your dataset.\n"
          ]
        },
        {
          "output_type": "stream",
          "name": "stdout",
          "text": [
            "\b\b\b\b\b\b\b\b\b\b\b\b\b\b\b\b\b\b\b\b\b\b\b\b\b\b\b\b\b\b\b\b\b\b\b\b\b\b\b\b\b\b\b\b\b\b\b\b\b\b\b\b\b\b\b\b\b\b\b\b\b\b\b\b\b\b\b\b\b\b\b\b\b\b\b\b\b\b\b\b\b\b\b\b\b\r100/100 [==============================] - 13s 48ms/step - loss: 0.1473 - accuracy: 0.9305 - val_loss: 0.0000e+00 - val_accuracy: 1.0000\n"
          ]
        },
        {
          "output_type": "execute_result",
          "data": {
            "text/plain": [
              "<keras.callbacks.History at 0x7fafeb7678d0>"
            ]
          },
          "metadata": {},
          "execution_count": 15
        }
      ]
    },
    {
      "cell_type": "code",
      "source": [
        "model.save(\"flower.h5\")"
      ],
      "metadata": {
        "id": "97Szb1yHiTdm"
      },
      "execution_count": 16,
      "outputs": []
    },
    {
      "cell_type": "code",
      "source": [
        "from tensorflow.keras.models import load_model\n",
        "from tensorflow.keras.preprocessing import image\n",
        "import numpy as np"
      ],
      "metadata": {
        "id": "b0uYjudhlUut"
      },
      "execution_count": 17,
      "outputs": []
    },
    {
      "cell_type": "code",
      "source": [
        "model = load_model(\"/content/flower.h5\")\n",
        "img = image.load_img(r\"/content/drive/MyDrive/Flowers-Dataset/flowers/dandelion/10294487385_92a0676c7d_m.jpg\",target_size=(128,128))\n",
        "img"
      ],
      "metadata": {
        "colab": {
          "base_uri": "https://localhost:8080/",
          "height": 145
        },
        "id": "P4d_zK7WlWxk",
        "outputId": "f6ce1d5d-80bb-4be4-f199-a6464bbdba82"
      },
      "execution_count": 27,
      "outputs": [
        {
          "output_type": "execute_result",
          "data": {
            "text/plain": [
              "<PIL.Image.Image image mode=RGB size=128x128 at 0x7FAFE03E1A50>"
            ],
            "image/png": "[encoded data removed]"
          },
          "metadata": {},
          "execution_count": 27
        }
      ]
    },
    {
      "cell_type": "code",
      "source": [
        "type(img)"
      ],
      "metadata": {
        "colab": {
          "base_uri": "https://localhost:8080/"
        },
        "id": "HXYL1doMot8v",
        "outputId": "2be9c494-cf4e-4da6-ff27-657c4beecc1f"
      },
      "execution_count": 28,
      "outputs": [
        {
          "output_type": "execute_result",
          "data": {
            "text/plain": [
              "PIL.Image.Image"
            ]
          },
          "metadata": {},
          "execution_count": 28
        }
      ]
    },
    {
      "cell_type": "code",
      "source": [
        "x = image.img_to_array(img)\n",
        "x"
      ],
      "metadata": {
        "colab": {
          "base_uri": "https://localhost:8080/"
        },
        "id": "0QD0JOL2oykl",
        "outputId": "91902a62-be00-4647-967b-f53f1e8c4a52"
      },
      "execution_count": 29,
      "outputs": [
        {
          "output_type": "execute_result",
          "data": {
            "text/plain": [
              "array([[[212., 213., 215.],\n",
              "        [212., 213., 215.],\n",
              "        [212., 213., 215.],\n",
              "        ...,\n",
              "        [239., 236., 231.],\n",
              "        [239., 236., 231.],\n",
              "        [239., 236., 231.]],\n",
              "\n",
              "       [[214., 215., 217.],\n",
              "        [214., 215., 217.],\n",
              "        [214., 215., 219.],\n",
              "        ...,\n",
              "        [241., 238., 233.],\n",
              "        [241., 238., 233.],\n",
              "        [241., 238., 233.]],\n",
              "\n",
              "       [[214., 215., 219.],\n",
              "        [214., 215., 219.],\n",
              "        [214., 215., 219.],\n",
              "        ...,\n",
              "        [241., 238., 233.],\n",
              "        [241., 238., 233.],\n",
              "        [242., 239., 234.]],\n",
              "\n",
              "       ...,\n",
              "\n",
              "       [[ 86., 101.,  44.],\n",
              "        [ 77.,  85.,  44.],\n",
              "        [ 65.,  74.,  17.],\n",
              "        ...,\n",
              "        [ 94., 109.,  28.],\n",
              "        [ 68.,  82.,  21.],\n",
              "        [ 78.,  82.,  23.]],\n",
              "\n",
              "       [[112., 124.,  42.],\n",
              "        [ 19.,  27.,   0.],\n",
              "        [ 63.,  57.,  25.],\n",
              "        ...,\n",
              "        [ 41.,  71.,   0.],\n",
              "        [115.,  89.,  40.],\n",
              "        [ 56.,  99.,  27.]],\n",
              "\n",
              "       [[ 60.,  59.,  13.],\n",
              "        [ 61.,  72.,   6.],\n",
              "        [ 99.,  92.,  24.],\n",
              "        ...,\n",
              "        [ 83.,  64.,  22.],\n",
              "        [ 35.,  54.,   8.],\n",
              "        [ 76.,  95.,  14.]]], dtype=float32)"
            ]
          },
          "metadata": {},
          "execution_count": 29
        }
      ]
    },
    {
      "cell_type": "code",
      "source": [
        "x.shape"
      ],
      "metadata": {
        "colab": {
          "base_uri": "https://localhost:8080/"
        },
        "id": "ZFSMRi3xo3EN",
        "outputId": "11f19429-870b-41c5-e805-d825c8df41d1"
      },
      "execution_count": 30,
      "outputs": [
        {
          "output_type": "execute_result",
          "data": {
            "text/plain": [
              "(128, 128, 3)"
            ]
          },
          "metadata": {},
          "execution_count": 30
        }
      ]
    },
    {
      "cell_type": "code",
      "source": [
        "x = np.expand_dims(x,axis=0)\n",
        "x.shape"
      ],
      "metadata": {
        "colab": {
          "base_uri": "https://localhost:8080/"
        },
        "id": "xyxptBgAo_6l",
        "outputId": "e57b8cc0-7e74-4cc8-9f00-cd453271985b"
      },
      "execution_count": 31,
      "outputs": [
        {
          "output_type": "execute_result",
          "data": {
            "text/plain": [
              "(1, 128, 128, 3)"
            ]
          },
          "metadata": {},
          "execution_count": 31
        }
      ]
    },
    {
      "cell_type": "code",
      "source": [
        "pred_prob = model.predict(x)\n",
        "pred_prob"
      ],
      "metadata": {
        "colab": {
          "base_uri": "https://localhost:8080/"
        },
        "id": "KQ-zKN_4pGq-",
        "outputId": "5cf6a199-4146-4e44-cc5a-4d16fc2deb5c"
      },
      "execution_count": 32,
      "outputs": [
        {
          "output_type": "execute_result",
          "data": {
            "text/plain": [
              "array([[0., 0., 0., 0., 1.]], dtype=float32)"
            ]
          },
          "metadata": {},
          "execution_count": 32
        }
      ]
    },
    {
      "cell_type": "code",
      "source": [
        "class_name = [\"daisy\",\"dandelion\",\"rose\",\"sunfower\",\"tulip\"]\n",
        "pred_id = pred_prob.argmax(axis=1)[0]\n",
        "pred_id"
      ],
      "metadata": {
        "colab": {
          "base_uri": "https://localhost:8080/"
        },
        "id": "XNAYGxdPpK3_",
        "outputId": "197bbbd4-901a-442b-f2bf-09129e309652"
      },
      "execution_count": 33,
      "outputs": [
        {
          "output_type": "execute_result",
          "data": {
            "text/plain": [
              "4"
            ]
          },
          "metadata": {},
          "execution_count": 33
        }
      ]
    },
    {
      "cell_type": "markdown",
      "source": [
        "# ***Test the Model***"
      ],
      "metadata": {
        "id": "8WtAPxJTp3Kj"
      }
    },
    {
      "cell_type": "code",
      "source": [
        "print(\"Predicted flower is\",str(class_name[pred_id]))"
      ],
      "metadata": {
        "colab": {
          "base_uri": "https://localhost:8080/"
        },
        "id": "FXtG5kYNpSOd",
        "outputId": "5e87808f-604c-4b8c-9f12-28d2651506ae"
      },
      "execution_count": 34,
      "outputs": [
        {
          "output_type": "stream",
          "name": "stdout",
          "text": [
            "Predicted flower is tulip\n"
          ]
        }
      ]
    }
  ]
}